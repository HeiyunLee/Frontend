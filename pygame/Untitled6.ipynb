{
 "cells": [
  {
   "cell_type": "code",
   "execution_count": 1,
   "id": "f19b5ccb",
   "metadata": {},
   "outputs": [],
   "source": [
    "# import\n",
    "from tkinter import *"
   ]
  },
  {
   "cell_type": "code",
   "execution_count": 3,
   "id": "97d30647",
   "metadata": {
    "scrolled": true
   },
   "outputs": [],
   "source": [
    "win = Tk()  # 창 생성\n",
    "\n",
    "win.geometry(\"500x500\")  # 창 크기\n",
    "win.title(\"snake_screen\")  # 창 제목\n",
    "win.option_add(\"*Font\",\"맑은고딕 25\")  # 전체 폰트\n",
    "\n",
    "btn1 = Button(win, text = \"GAME START\")\n",
    "btn1.pack()  # 버튼객체에 pack함수 사용\n",
    "btn2 = Button(win, text = \"GAME END\")\n",
    "btn2.pack()\n",
    "\n",
    "win.mainloop()  # 창 실행"
   ]
  },
  {
   "cell_type": "code",
   "execution_count": null,
   "id": "7da6db1e",
   "metadata": {},
   "outputs": [],
   "source": []
  },
  {
   "cell_type": "code",
   "execution_count": null,
   "id": "414724c4",
   "metadata": {},
   "outputs": [],
   "source": []
  },
  {
   "cell_type": "code",
   "execution_count": null,
   "id": "c524f5d9",
   "metadata": {},
   "outputs": [],
   "source": []
  },
  {
   "cell_type": "code",
   "execution_count": null,
   "id": "54d15fd5",
   "metadata": {},
   "outputs": [],
   "source": []
  },
  {
   "cell_type": "code",
   "execution_count": null,
   "id": "23ebd486",
   "metadata": {},
   "outputs": [],
   "source": []
  }
 ],
 "metadata": {
  "kernelspec": {
   "display_name": "Python 3 (ipykernel)",
   "language": "python",
   "name": "python3"
  },
  "language_info": {
   "codemirror_mode": {
    "name": "ipython",
    "version": 3
   },
   "file_extension": ".py",
   "mimetype": "text/x-python",
   "name": "python",
   "nbconvert_exporter": "python",
   "pygments_lexer": "ipython3",
   "version": "3.9.12"
  }
 },
 "nbformat": 4,
 "nbformat_minor": 5
}
